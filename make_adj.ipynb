{
 "cells": [
  {
   "cell_type": "code",
   "execution_count": 1,
   "id": "61eb0fb7-32a3-46ba-9faf-282e5f08aa37",
   "metadata": {},
   "outputs": [],
   "source": [
    "import numpy as np\n",
    "from sklearn.metrics.pairwise import euclidean_distances\n",
    "from sklearn.neighbors import kneighbors_graph\n",
    "from scipy.sparse.csgraph import laplacian\n",
    "from scipy.stats import gaussian_kde\n",
    "from sklearn.neighbors import KernelDensity\n",
    "import time\n",
    "import numba\n",
    "from sklearn.neighbors import kneighbors_graph\n",
    "from sklearn.metrics.pairwise import euclidean_distances\n",
    "from scipy.sparse import csgraph\n",
    "from scipy.sparse import lil_matrix\n",
    "from sklearn.metrics import euclidean_distances\n",
    "from sklearn.neighbors import NearestNeighbors\n",
    "from scipy.spatial.distance import cdist\n",
    "import warnings\n",
    "import numba\n",
    "from numba import jit, prange\n",
    "from sklearn.metrics import pairwise_distances\n",
    "from sklearn.datasets import make_circles\n",
    "from matplotlib import pyplot as plt\n",
    "import numpy as np\n",
    "from sklearn.neighbors import NearestNeighbors\n",
    "import random\n",
    "from scipy.spatial.distance import cdist\n",
    "from scipy.sparse.linalg import svds\n",
    "from scipy.sparse import csr_matrix\n",
    "\n",
    "\n",
    "# Suppress NumPy warnings\n",
    "#warnings.filterwarnings(\"ignore\", category=np.VisibleDeprecationWarning)\n",
    "import scipy.io"
   ]
  },
  {
   "cell_type": "code",
   "execution_count": 2,
   "id": "cc6bc559-9410-4ccf-8c20-3e6b198942bc",
   "metadata": {},
   "outputs": [],
   "source": [
    "\n",
    "def make_adjacency(X, k):\n",
    "    knn_model = NearestNeighbors(n_neighbors=k, algorithm=\"ball_tree\", n_jobs=1)\n",
    "    print('new knn')\n",
    "    knn_model.fit(X)\n",
    "\n",
    "    # Compute distances and indices of k-nearest neighbors\n",
    "    dist, indices = knn_model.kneighbors(X)\n",
    "\n",
    "    \n",
    "    sparse_dist_matrix = np.zeros((len(X), len(X)))\n",
    "    # Iterate through each point and set distances to non-neighbors to 0\n",
    "    for i in range(len(X)):\n",
    "        # Get the indices of the k-nearest neighbors for the current point\n",
    "        neighbor_indices = indices[i]\n",
    "\n",
    "        # Set distances to non-neighbors to 0\n",
    "        sparse_dist_matrix[i][neighbor_indices] = dist[i]\n",
    "    \n",
    "    max_matrix = np.maximum(sparse_dist_matrix, sparse_dist_matrix.T)\n",
    "    \n",
    "    return max_matrix\n"
   ]
  },
  {
   "cell_type": "code",
   "execution_count": 3,
   "id": "8b0b726c-51e1-44f4-ba48-c4dc7b837a3f",
   "metadata": {},
   "outputs": [
    {
     "data": {
      "text/plain": [
       "\"\\ndef make_adjacency(X, k=100, radius=1):\\n    knn_model = NearestNeighbors(n_neighbors=k, radius=radius, metric='euclidean', n_jobs=-1)\\n    knn_model.fit(X)\\n\\n    # Compute distances and indices of k-nearest neighbors\\n    dist, indices = knn_model.kneighbors(X)\\n    \\n    # Compute distances and indices of radius neighbors\\n    radius_dist, radius_indices = knn_model.radius_neighbors(X)\\n\\n    # Initialize a sparse distance matrix\\n    sparse_dist_matrix = np.zeros((len(X), len(X)))\\n\\n    # Populate the sparse distance matrix with k-nearest neighbors\\n    for i in range(len(X)):\\n        neighbor_indices = indices[i]\\n        sparse_dist_matrix[i][neighbor_indices] = dist[i]\\n\\n    # Populate the sparse distance matrix with radius neighbors\\n    for i in range(len(X)):\\n        neighbor_indices = radius_indices[i]\\n        sparse_dist_matrix[i][neighbor_indices] = radius_dist[i]\\n    \\n    # Ensure the matrix is symmetric\\n    max_matrix = np.maximum(sparse_dist_matrix, sparse_dist_matrix.T)\\n    \\n    return max_matrix\\n\""
      ]
     },
     "execution_count": 3,
     "metadata": {},
     "output_type": "execute_result"
    }
   ],
   "source": [
    "'''\n",
    "def make_adjacency(X, k=100, radius=1):\n",
    "    knn_model = NearestNeighbors(n_neighbors=k, radius=radius, metric='euclidean', n_jobs=-1)\n",
    "    knn_model.fit(X)\n",
    "\n",
    "    # Compute distances and indices of k-nearest neighbors\n",
    "    dist, indices = knn_model.kneighbors(X)\n",
    "    \n",
    "    # Compute distances and indices of radius neighbors\n",
    "    radius_dist, radius_indices = knn_model.radius_neighbors(X)\n",
    "\n",
    "    # Initialize a sparse distance matrix\n",
    "    sparse_dist_matrix = np.zeros((len(X), len(X)))\n",
    "\n",
    "    # Populate the sparse distance matrix with k-nearest neighbors\n",
    "    for i in range(len(X)):\n",
    "        neighbor_indices = indices[i]\n",
    "        sparse_dist_matrix[i][neighbor_indices] = dist[i]\n",
    "\n",
    "    # Populate the sparse distance matrix with radius neighbors\n",
    "    for i in range(len(X)):\n",
    "        neighbor_indices = radius_indices[i]\n",
    "        sparse_dist_matrix[i][neighbor_indices] = radius_dist[i]\n",
    "    \n",
    "    # Ensure the matrix is symmetric\n",
    "    max_matrix = np.maximum(sparse_dist_matrix, sparse_dist_matrix.T)\n",
    "    \n",
    "    return max_matrix\n",
    "'''"
   ]
  },
  {
   "cell_type": "code",
   "execution_count": null,
   "id": "f3eb8187-ecdf-469f-ba56-2c36e9a2b6c3",
   "metadata": {},
   "outputs": [],
   "source": []
  }
 ],
 "metadata": {
  "kernelspec": {
   "display_name": "Python 3 (ipykernel)",
   "language": "python",
   "name": "python3"
  },
  "language_info": {
   "codemirror_mode": {
    "name": "ipython",
    "version": 3
   },
   "file_extension": ".py",
   "mimetype": "text/x-python",
   "name": "python",
   "nbconvert_exporter": "python",
   "pygments_lexer": "ipython3",
   "version": "3.11.5"
  }
 },
 "nbformat": 4,
 "nbformat_minor": 5
}
