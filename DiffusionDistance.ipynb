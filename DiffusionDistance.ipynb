{
 "cells": [
  {
   "cell_type": "code",
   "execution_count": 1,
   "id": "1b59ae4a-2805-424e-9c86-4dc77090b643",
   "metadata": {},
   "outputs": [],
   "source": [
    "%run make_adj.ipynb\n",
    "%run LocalDensity.ipynb"
   ]
  },
  {
   "cell_type": "code",
   "execution_count": 2,
   "id": "b47d7679-bf05-4465-a92b-6d2f9547ebde",
   "metadata": {},
   "outputs": [],
   "source": [
    "def gaussian_kernel(D): #D = adjancency\n",
    "    sigma = 1*np.mean(D[D>0])\n",
    "\n",
    "    gaussian_kernel = np.exp(- (D**2 / (sigma**2)) )\n",
    "    gaussian_kernel[D == 0] = 0\n",
    "    I = np.eye(len(D))\n",
    "    gaussian_kernel = gaussian_kernel + I\n",
    "    \n",
    "    return gaussian_kernel"
   ]
  },
  {
   "cell_type": "code",
   "execution_count": 3,
   "id": "54a71276-b47a-4ee1-a37d-98d171007025",
   "metadata": {},
   "outputs": [],
   "source": [
    "def diffusion_map(W): #W = weight/gaussian kernel matrix\n",
    "    row_sums = np.sum(W, axis=1)\n",
    "    D = W / row_sums[:, np.newaxis]\n",
    "    return D"
   ]
  },
  {
   "cell_type": "code",
   "execution_count": 1,
   "id": "df62ded7-29c9-4520-8a04-884d8754685a",
   "metadata": {},
   "outputs": [],
   "source": [
    "def embed(P, t): #P = diffusion matrix, t = time\n",
    "    \n",
    "    sparse_P = csr_matrix(P)\n",
    "\n",
    "    # Perform SVD\n",
    "    k = 8 # Number of singular values to compute\n",
    "    #U, S, VT = svds(sparse_P, k=k)\n",
    "    U, S, VT = svds(sparse_P, k=8, random_state=0)\n",
    "    \n",
    "    paired_elements = np.array(list(zip(U[:, 0]*(S[0]**t), U[:, 1]*(S[1]**t), U[:, 2]*(S[2]**t), U[:, 3]*(S[3]**t), U[:, 4]*(S[4]**t), U[:, 5]*(S[5]**t), U[:, 6]*(S[6]**t), U[:, 7]*(S[7]**t))))\n",
    "    #paired_elements = U * (S**t)\n",
    "    return paired_elements, U, S, VT"
   ]
  },
  {
   "cell_type": "code",
   "execution_count": 5,
   "id": "5b47d13d-8b18-45b7-b7dc-77373d5ef5e1",
   "metadata": {},
   "outputs": [
    {
     "data": {
      "text/plain": [
       "'\\nP_X = diffusion_map(K_X)\\nEmbedding_X = embed(P_X, t)\\nE_X = Embedding_X[0]\\n'"
      ]
     },
     "execution_count": 5,
     "metadata": {},
     "output_type": "execute_result"
    }
   ],
   "source": [
    "'''\n",
    "P_X = diffusion_map(K_X)\n",
    "Embedding_X = embed(P_X, t)\n",
    "E_X = Embedding_X[0]\n",
    "'''"
   ]
  },
  {
   "cell_type": "code",
   "execution_count": 6,
   "id": "9e9b1ae5-4dcf-48f5-b535-b1cd153ca170",
   "metadata": {},
   "outputs": [],
   "source": [
    "def diffusion_dist(Emb):\n",
    "    return cdist(Emb, Emb)"
   ]
  },
  {
   "cell_type": "code",
   "execution_count": null,
   "id": "df352dec-5bd4-4b31-a9fa-d9e74243fe0e",
   "metadata": {},
   "outputs": [],
   "source": []
  },
  {
   "cell_type": "code",
   "execution_count": null,
   "id": "129ec2d6",
   "metadata": {},
   "outputs": [],
   "source": []
  }
 ],
 "metadata": {
  "kernelspec": {
   "display_name": "Python 3 (ipykernel)",
   "language": "python",
   "name": "python3"
  },
  "language_info": {
   "codemirror_mode": {
    "name": "ipython",
    "version": 3
   },
   "file_extension": ".py",
   "mimetype": "text/x-python",
   "name": "python",
   "nbconvert_exporter": "python",
   "pygments_lexer": "ipython3",
   "version": "3.11.5"
  }
 },
 "nbformat": 4,
 "nbformat_minor": 5
}
