{
 "cells": [
  {
   "cell_type": "code",
   "execution_count": 1,
   "id": "06cd1707-74d4-4e0e-a601-671e2e03120c",
   "metadata": {},
   "outputs": [],
   "source": [
    "%run DiffusionDistance.ipynb"
   ]
  },
  {
   "cell_type": "code",
   "execution_count": 2,
   "id": "ee7a5671-bac3-4e37-a768-e2a8166ed0b8",
   "metadata": {},
   "outputs": [],
   "source": [
    "import numpy as np\n",
    "from scipy.spatial.distance import pdist, squareform\n",
    "from sklearn.cluster import KMeans\n",
    "from sklearn.metrics import pairwise_distances_argmin_min"
   ]
  },
  {
   "cell_type": "code",
   "execution_count": 3,
   "id": "5ee2997e-a67f-4c17-bba0-24f3accd1db8",
   "metadata": {},
   "outputs": [],
   "source": [
    "def find_density_peaks(X, K, PWdistEuc, PWdist, Density_in=None):\n",
    "    # Compute the density peaks of the dataset X.\n",
    "    # Compute the true finite-sample Density and the distances Delta from each point to the\n",
    "    # point of higher density.\n",
    "    \n",
    "    Density, PWdist_ = local_density(X, K, PWdistEuc)\n",
    "    \n",
    "    Delta = np.zeros_like(Density)\n",
    "    if Density_in is not None:\n",
    "        Density = Density_in\n",
    "\n",
    "    # Compute Delta by measuring the minimal distance to a point of higher density\n",
    "    for i in range(len(Density)):\n",
    "        if Density[i] == max(Density):\n",
    "            Delta[i] = np.max(PWdist[i, :])\n",
    "        else:\n",
    "            Delta[i] = np.min(PWdist[i, np.where(Density > Density[i])[0]])\n",
    "           \n",
    "                    \n",
    "    \n",
    "    # Normalize\n",
    "    Delta /= np.max(Delta)\n",
    "    Density /= np.sum(Density)\n",
    "    \n",
    "    # Combine these measures multiplicatively\n",
    "    DeltaDensity = Delta * Density\n",
    "    \n",
    "    return DeltaDensity, Density, Delta"
   ]
  },
  {
   "cell_type": "code",
   "execution_count": null,
   "id": "c2b0a9c8-8318-4523-86c5-e3e4744cb9b3",
   "metadata": {},
   "outputs": [],
   "source": []
  },
  {
   "cell_type": "code",
   "execution_count": null,
   "id": "10e3f4b3-d994-42bb-9065-6c26de7b5edc",
   "metadata": {},
   "outputs": [],
   "source": []
  },
  {
   "cell_type": "code",
   "execution_count": null,
   "id": "47ecc60c",
   "metadata": {},
   "outputs": [],
   "source": []
  }
 ],
 "metadata": {
  "kernelspec": {
   "display_name": "Python 3 (ipykernel)",
   "language": "python",
   "name": "python3"
  },
  "language_info": {
   "codemirror_mode": {
    "name": "ipython",
    "version": 3
   },
   "file_extension": ".py",
   "mimetype": "text/x-python",
   "name": "python",
   "nbconvert_exporter": "python",
   "pygments_lexer": "ipython3",
   "version": "3.11.5"
  }
 },
 "nbformat": 4,
 "nbformat_minor": 5
}
