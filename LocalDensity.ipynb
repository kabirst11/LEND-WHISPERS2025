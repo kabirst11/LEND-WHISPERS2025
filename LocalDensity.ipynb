{
 "cells": [
  {
   "cell_type": "code",
   "execution_count": 15,
   "id": "ab42fdb0-fa85-4b98-9176-0063918f5f8b",
   "metadata": {},
   "outputs": [],
   "source": [
    "%run make_adj.ipynb\n",
    "import numpy as np\n",
    "from scipy.spatial.distance import pdist, squareform"
   ]
  },
  {
   "cell_type": "code",
   "execution_count": 16,
   "id": "1f0495fc-bdd1-472e-8e66-cff5b930bf1d",
   "metadata": {},
   "outputs": [],
   "source": [
    "def local_density(X, K, PWdist):\n",
    "    # Computes the local density of the points in an N x D matrix X using the threshold value th.\n",
    "    # Use K nearest neighbors. A matrix of distances may be passed in.\n",
    "    \n",
    "    Density = np.zeros((X.shape[0], 1))  # Initialize density array\n",
    "    '''\n",
    "    if PWdist is None:\n",
    "        D = pdist(X)  # Compute pairwise distances\n",
    "        PWdist = squareform(D)  # Pairwise distances\n",
    "    '''\n",
    "    \n",
    "    # For all real HSI experiments\n",
    "    pwdata = cdist(X, X)\n",
    "    sigma = 1*np.mean(pwdata[pwdata > 0])  # Compute sigma\n",
    "    # Sort pairwise distances\n",
    "    PWdist = np.sort(PWdist, axis=0)\n",
    "    K = 500\n",
    "    #print(\"K\", K)\n",
    "    # Loop over each point\n",
    "    for l in range(PWdist.shape[0]):\n",
    "        # Calculate density using K nearest neighbors\n",
    "        Density[l] = np.sum(np.exp(-(PWdist[1:K+1, l] ** 2) / (sigma ** 2)))\n",
    "\n",
    "    return Density, PWdist\n",
    "\n"
   ]
  },
  {
   "cell_type": "code",
   "execution_count": null,
   "id": "70e25cbf-76c1-4e3f-a8f2-84f3ffc113bc",
   "metadata": {},
   "outputs": [],
   "source": []
  },
  {
   "cell_type": "code",
   "execution_count": null,
   "id": "2d50ddb4-5481-4e60-a7b0-164f786f47f7",
   "metadata": {},
   "outputs": [],
   "source": []
  }
 ],
 "metadata": {
  "kernelspec": {
   "display_name": "Python 3 (ipykernel)",
   "language": "python",
   "name": "python3"
  },
  "language_info": {
   "codemirror_mode": {
    "name": "ipython",
    "version": 3
   },
   "file_extension": ".py",
   "mimetype": "text/x-python",
   "name": "python",
   "nbconvert_exporter": "python",
   "pygments_lexer": "ipython3",
   "version": "3.11.5"
  }
 },
 "nbformat": 4,
 "nbformat_minor": 5
}
