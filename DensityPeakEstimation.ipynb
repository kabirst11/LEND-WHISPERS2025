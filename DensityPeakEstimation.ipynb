{
 "cells": [
  {
   "cell_type": "code",
   "execution_count": 9,
   "id": "e25672b4-3654-4a2b-a031-0c1df5537508",
   "metadata": {},
   "outputs": [],
   "source": [
    "%run FindDensityPeaks.ipynb"
   ]
  },
  {
   "cell_type": "code",
   "execution_count": 10,
   "id": "33f5a546-9418-4ccc-b326-6d8fc2ac7b6a",
   "metadata": {},
   "outputs": [],
   "source": [
    "def density_peaks_estimation(DeltaDensity, Budget):\n",
    "    \n",
    "    sorted_indices = sorted(enumerate(DeltaDensity), key=lambda x: x[1], reverse=True)\n",
    "\n",
    "    # Extracting just the indices and converting to NumPy array\n",
    "    sorted_indices_array = np.array([int(index) for index, _ in sorted_indices])\n",
    "    #Centers = sorted_indices_array[:Budget]\n",
    "    Centers = sorted_indices_array\n",
    "    return Centers"
   ]
  },
  {
   "cell_type": "code",
   "execution_count": null,
   "id": "032e02c0-61a4-4747-9477-05360117bed4",
   "metadata": {},
   "outputs": [],
   "source": []
  },
  {
   "cell_type": "code",
   "execution_count": null,
   "id": "7176fc3c",
   "metadata": {},
   "outputs": [],
   "source": []
  }
 ],
 "metadata": {
  "kernelspec": {
   "display_name": "Python 3 (ipykernel)",
   "language": "python",
   "name": "python3"
  },
  "language_info": {
   "codemirror_mode": {
    "name": "ipython",
    "version": 3
   },
   "file_extension": ".py",
   "mimetype": "text/x-python",
   "name": "python",
   "nbconvert_exporter": "python",
   "pygments_lexer": "ipython3",
   "version": "3.11.5"
  }
 },
 "nbformat": 4,
 "nbformat_minor": 5
}
